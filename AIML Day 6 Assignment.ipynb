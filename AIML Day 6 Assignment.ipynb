{
 "cells": [
  {
   "cell_type": "markdown",
   "metadata": {},
   "source": [
    "# Question 1: Company name in email address"
   ]
  },
  {
   "cell_type": "code",
   "execution_count": 38,
   "metadata": {},
   "outputs": [
    {
     "name": "stdout",
     "output_type": "stream",
     "text": [
      "Enter your email ID: shounak.deshpande@instagram.com\n",
      "instagram\n"
     ]
    }
   ],
   "source": [
    "b = str(input('Enter your email ID: '))\n",
    "\n",
    "c = b[::-1]\n",
    "a1 = c.index('@')\n",
    "a2 = c.index('.')\n",
    "d = c[a2+1:a1]\n",
    "e = d[::-1]\n",
    "print(e)"
   ]
  },
  {
   "cell_type": "markdown",
   "metadata": {},
   "source": [
    "# Question 2: Program which takes coma separated inputs and gives sorted output "
   ]
  },
  {
   "cell_type": "code",
   "execution_count": 45,
   "metadata": {},
   "outputs": [
    {
     "name": "stdout",
     "output_type": "stream",
     "text": [
      "Enter words separated by coma:zebra, bat, jar, laptop, python, AIML\n",
      "[' AIML', ' bat', ' jar', ' laptop', ' python', 'zebra']\n"
     ]
    }
   ],
   "source": [
    "a = str(input('Enter words separated by coma:'))\n",
    "b = a.split(',')\n",
    "b.sort()\n",
    "print(b)"
   ]
  },
  {
   "cell_type": "markdown",
   "metadata": {},
   "source": [
    "# Question 3: Create Jupyter Notebook for Sets"
   ]
  },
  {
   "cell_type": "code",
   "execution_count": 46,
   "metadata": {},
   "outputs": [
    {
     "name": "stdout",
     "output_type": "stream",
     "text": [
      "{1, 2, 3, 4, 5, 6, 7, 8, 9, 34, 12, 57}\n"
     ]
    }
   ],
   "source": [
    "a = [1,2,3,4,5,6,7,8,9,2,4,6,8,12,34,57,8,3]\n",
    "b = set(a)\n",
    "print(b)"
   ]
  },
  {
   "cell_type": "code",
   "execution_count": 48,
   "metadata": {},
   "outputs": [
    {
     "name": "stdout",
     "output_type": "stream",
     "text": [
      "{1, 2, 3, 4, 5, 6, 7, 8, 9, 34, 12, 44, 57}\n"
     ]
    }
   ],
   "source": [
    "b.add(44)\n",
    "print(b)"
   ]
  },
  {
   "cell_type": "code",
   "execution_count": 49,
   "metadata": {},
   "outputs": [
    {
     "name": "stdout",
     "output_type": "stream",
     "text": [
      "{1, 2, 3, 4, 5, 7, 8, 9, 34, 12, 44, 57}\n"
     ]
    }
   ],
   "source": [
    "b.remove(6)\n",
    "print(b)"
   ]
  },
  {
   "cell_type": "code",
   "execution_count": 52,
   "metadata": {},
   "outputs": [
    {
     "data": {
      "text/plain": [
       "True"
      ]
     },
     "execution_count": 52,
     "metadata": {},
     "output_type": "execute_result"
    }
   ],
   "source": [
    "c = {5,12,57}\n",
    "c.issubset(b)"
   ]
  },
  {
   "cell_type": "code",
   "execution_count": 54,
   "metadata": {},
   "outputs": [
    {
     "data": {
      "text/plain": [
       "True"
      ]
     },
     "execution_count": 54,
     "metadata": {},
     "output_type": "execute_result"
    }
   ],
   "source": [
    "5 in c"
   ]
  },
  {
   "cell_type": "code",
   "execution_count": 56,
   "metadata": {},
   "outputs": [
    {
     "data": {
      "text/plain": [
       "{1, 2, 3, 4, 5, 7, 8, 9, 12, 34, 44, 57}"
      ]
     },
     "execution_count": 56,
     "metadata": {},
     "output_type": "execute_result"
    }
   ],
   "source": [
    "c.union(b)"
   ]
  },
  {
   "cell_type": "code",
   "execution_count": 58,
   "metadata": {},
   "outputs": [
    {
     "data": {
      "text/plain": [
       "False"
      ]
     },
     "execution_count": 58,
     "metadata": {},
     "output_type": "execute_result"
    }
   ],
   "source": [
    "c.issuperset(b)"
   ]
  },
  {
   "cell_type": "code",
   "execution_count": 61,
   "metadata": {},
   "outputs": [
    {
     "data": {
      "text/plain": [
       "2"
      ]
     },
     "execution_count": 61,
     "metadata": {},
     "output_type": "execute_result"
    }
   ],
   "source": [
    "b.pop()"
   ]
  },
  {
   "cell_type": "code",
   "execution_count": 63,
   "metadata": {},
   "outputs": [
    {
     "data": {
      "text/plain": [
       "{3, 4, 5, 7, 8, 9, 12, 34, 44, 57}"
      ]
     },
     "execution_count": 63,
     "metadata": {},
     "output_type": "execute_result"
    }
   ],
   "source": [
    "b"
   ]
  },
  {
   "cell_type": "markdown",
   "metadata": {},
   "source": [
    "# Question 4: find the missing number in the series"
   ]
  },
  {
   "cell_type": "code",
   "execution_count": 80,
   "metadata": {},
   "outputs": [
    {
     "name": "stdout",
     "output_type": "stream",
     "text": [
      "Enter the numbers separated by coma: 1,2,4,5,7,9\n",
      "Enter the range limit: 11\n",
      "Missing number in the series is {8, 10, 3, 6}\n"
     ]
    }
   ],
   "source": [
    "L =[]\n",
    "a = str(input('Enter the numbers separated by coma: '))\n",
    "b = (a.split(','))\n",
    "\n",
    "for i in b:\n",
    "    L.append(int(i))\n",
    "c = set(L)\n",
    "\n",
    "d = int(input('Enter the range limit: '))\n",
    "e = set(list(range(1,d)))\n",
    "\n",
    "print('Missing number in the series is',e.difference(c))"
   ]
  },
  {
   "cell_type": "markdown",
   "metadata": {},
   "source": [
    "# Question 5: Removing duplicate values from list"
   ]
  },
  {
   "cell_type": "code",
   "execution_count": 99,
   "metadata": {},
   "outputs": [
    {
     "name": "stdout",
     "output_type": "stream",
     "text": [
      "Enter the numbers in the list separated by space: 12 24 35 24 88 120 155 88 120 155\n",
      "given series is  12 24 35 24 88 120 155 88 120 155\n",
      "{35, 12, 155, 24, 88, 120}\n",
      "12 24 35 88 120 155 "
     ]
    }
   ],
   "source": [
    "a = str(input('Enter the numbers in the list separated by space: '))\n",
    "print('given series is ',a)\n",
    "b = a.split(' ')\n",
    "c = []\n",
    "for i in b:\n",
    "    c.append(int(i))\n",
    "d = set(c)\n",
    "print(d)\n",
    "e = list(d)\n",
    "e.sort()\n",
    "for j in e:\n",
    "    print(j , end = ' ')"
   ]
  }
 ],
 "metadata": {
  "kernelspec": {
   "display_name": "Python 3",
   "language": "python",
   "name": "python3"
  },
  "language_info": {
   "codemirror_mode": {
    "name": "ipython",
    "version": 3
   },
   "file_extension": ".py",
   "mimetype": "text/x-python",
   "name": "python",
   "nbconvert_exporter": "python",
   "pygments_lexer": "ipython3",
   "version": "3.8.3"
  }
 },
 "nbformat": 4,
 "nbformat_minor": 4
}
