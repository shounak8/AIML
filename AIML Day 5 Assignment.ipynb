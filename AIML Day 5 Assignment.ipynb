{
 "cells": [
  {
   "cell_type": "markdown",
   "metadata": {},
   "source": [
    "# Question 1: First 20 non even prime numbers"
   ]
  },
  {
   "cell_type": "code",
   "execution_count": 1,
   "metadata": {},
   "outputs": [
    {
     "name": "stdout",
     "output_type": "stream",
     "text": [
      "3\n",
      "5\n",
      "7\n",
      "11\n",
      "13\n",
      "17\n",
      "19\n",
      "23\n",
      "29\n",
      "31\n",
      "37\n",
      "41\n",
      "43\n",
      "47\n",
      "53\n",
      "59\n",
      "61\n",
      "67\n",
      "71\n",
      "73\n"
     ]
    }
   ],
   "source": [
    "D = {}\n",
    "a = 1\n",
    "for i in range(3,100):\n",
    "    for j in range(2,i):\n",
    "        if i%j == 0:\n",
    "            break\n",
    "    else:\n",
    "        if a <= 20:\n",
    "            print(i)\n",
    "            a += 1"
   ]
  },
  {
   "cell_type": "markdown",
   "metadata": {},
   "source": [
    "# Question 2: 15 Functions of String"
   ]
  },
  {
   "cell_type": "code",
   "execution_count": 2,
   "metadata": {},
   "outputs": [
    {
     "name": "stdout",
     "output_type": "stream",
     "text": [
      "1:  Abcdef\n",
      "2:  abcdef\n",
      "3:    ABCDEF  \n",
      "4:  1\n",
      "5:  b'ABCDEF'\n",
      "6:  True\n",
      "7:  ABCDEF\n",
      "8:  3\n",
      "9:  ABCDEF\n",
      "10:  ABCDEF\n",
      "11:  4\n",
      "12:  True\n",
      "13:  True\n",
      "14:  False\n",
      "15:  True\n"
     ]
    }
   ],
   "source": [
    "a = 'ABCDEF'\n",
    "\n",
    "print('1: ',a.capitalize())\n",
    "print('2: ',a.casefold())\n",
    "print('3: ',a.center(10))\n",
    "print('4: ',a.count('D'))\n",
    "print('5: ',a.encode())\n",
    "print('6: ',a.endswith('F'))\n",
    "print('7: ',a.expandtabs())\n",
    "print('8: ',a.find('D'))\n",
    "print('9: ',a.format('C'))\n",
    "print('10: ',a.format_map('C'))\n",
    "print('11: ',a.index('E'))\n",
    "print('12: ',a.isalnum())\n",
    "print('13: ',a.isalpha())\n",
    "print('14: ',a.islower())\n",
    "print('15: ',a.isupper())"
   ]
  },
  {
   "cell_type": "markdown",
   "metadata": {},
   "source": [
    "# Question 3: Palindrome, Anagram or none"
   ]
  },
  {
   "cell_type": "code",
   "execution_count": 6,
   "metadata": {},
   "outputs": [
    {
     "name": "stdout",
     "output_type": "stream",
     "text": [
      "Enter the word/number: elbow\n",
      "elbow  is Anagram of  below\n"
     ]
    }
   ],
   "source": [
    "a33 = str(input('Enter the word/number: '))\n",
    "SYSTEM_PALINDROME_VOCABULARY = ['tar','arc','elbow','state','cider','dusty','night','inch','brag','cat','bored','save','angel','stressed','rat','car','below','taste','cried','study','thing','chin','grab','act','robed','vase','glean','desserts']\n",
    "LST = SYSTEM_PALINDROME_VOCABULARY\n",
    "a3 = a33.casefold()\n",
    "b33 = a3 in LST\n",
    "if a33 == '':\n",
    "    print('blank input. restart program')\n",
    "elif a3 == a3[::-1]:\n",
    "    print('Given input is Palindrome')\n",
    "else:\n",
    "    if a3 != a3[::-1]:\n",
    "        if b33 == True:\n",
    "            LST.remove(a3)\n",
    "            for i in LST:\n",
    "                if set(i) == set(a3):\n",
    "                    print(a33,' is Anagram of ', i)\n",
    "        else:\n",
    "            print('Neither Anagram nor Palindrome')"
   ]
  },
  {
   "cell_type": "markdown",
   "metadata": {},
   "source": [
    "# Question 4:  Function to convert to lower case and remove unwanted characters"
   ]
  },
  {
   "cell_type": "code",
   "execution_count": 4,
   "metadata": {},
   "outputs": [
    {
     "name": "stdout",
     "output_type": "stream",
     "text": [
      "drdarshaningleaimltrainer"
     ]
    }
   ],
   "source": [
    "def checkfun(l4):\n",
    "    alphabets = 'abcdefghijklmnopqrstuvwxyz'\n",
    "    A = list(alphabets)\n",
    "    i4 = l4.lower()\n",
    "    j4 = list(i4)\n",
    "    for i in j4:\n",
    "        a4 = i in A\n",
    "        if a4 == True:\n",
    "            print(i,end = '')\n",
    "            \n",
    "checkfun('Dr. Darshan Ingle @AIML Trainer')"
   ]
  },
  {
   "cell_type": "code",
   "execution_count": 7,
   "metadata": {},
   "outputs": [
    {
     "name": "stdout",
     "output_type": "stream",
     "text": [
      "User input: shounak8@gmail.com\n",
      "shounakgmailcom"
     ]
    }
   ],
   "source": [
    "l4 = str(input('User input: '))\n",
    "checkfun(l4)"
   ]
  }
 ],
 "metadata": {
  "kernelspec": {
   "display_name": "Python 3",
   "language": "python",
   "name": "python3"
  },
  "language_info": {
   "codemirror_mode": {
    "name": "ipython",
    "version": 3
   },
   "file_extension": ".py",
   "mimetype": "text/x-python",
   "name": "python",
   "nbconvert_exporter": "python",
   "pygments_lexer": "ipython3",
   "version": "3.8.3"
  }
 },
 "nbformat": 4,
 "nbformat_minor": 4
}
