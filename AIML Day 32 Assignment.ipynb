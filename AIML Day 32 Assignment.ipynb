{
 "cells": [
  {
   "cell_type": "markdown",
   "metadata": {},
   "source": [
    "# Question 1:\n",
    "1. Using the IRIS dataset do the NaiveBayes Modelling"
   ]
  },
  {
   "cell_type": "code",
   "execution_count": 37,
   "metadata": {},
   "outputs": [],
   "source": [
    "import pandas as pd\n",
    "from sklearn.naive_bayes import GaussianNB, MultinomialNB, BernoulliNB\n",
    "from sklearn.datasets import load_iris\n",
    "from sklearn.preprocessing import StandardScaler\n",
    "from sklearn.model_selection import train_test_split\n",
    "from sklearn.metrics import accuracy_score"
   ]
  },
  {
   "cell_type": "code",
   "execution_count": 3,
   "metadata": {},
   "outputs": [],
   "source": [
    "iris = load_iris()    #loading iris dataset"
   ]
  },
  {
   "cell_type": "code",
   "execution_count": 32,
   "metadata": {},
   "outputs": [],
   "source": [
    "'''forming features and target data'''\n",
    "feat = pd.DataFrame(iris.data)\n",
    "target = pd.DataFrame(iris.target)"
   ]
  },
  {
   "cell_type": "code",
   "execution_count": 33,
   "metadata": {},
   "outputs": [],
   "source": [
    "'''forming train and test data'''\n",
    "xtrain, xtest, ytrain, ytest = train_test_split(feat, target, test_size = 0.20)"
   ]
  },
  {
   "cell_type": "code",
   "execution_count": 36,
   "metadata": {},
   "outputs": [
    {
     "name": "stderr",
     "output_type": "stream",
     "text": [
      "C:\\Users\\shoun\\anaconda3\\lib\\site-packages\\sklearn\\utils\\validation.py:73: DataConversionWarning: A column-vector y was passed when a 1d array was expected. Please change the shape of y to (n_samples, ), for example using ravel().\n",
      "  return f(**kwargs)\n",
      "C:\\Users\\shoun\\anaconda3\\lib\\site-packages\\sklearn\\utils\\validation.py:73: DataConversionWarning: A column-vector y was passed when a 1d array was expected. Please change the shape of y to (n_samples, ), for example using ravel().\n",
      "  return f(**kwargs)\n",
      "C:\\Users\\shoun\\anaconda3\\lib\\site-packages\\sklearn\\utils\\validation.py:73: DataConversionWarning: A column-vector y was passed when a 1d array was expected. Please change the shape of y to (n_samples, ), for example using ravel().\n",
      "  return f(**kwargs)\n"
     ]
    }
   ],
   "source": [
    "'''forming Gaussian, Multinominal and Bernoulli models'''\n",
    "Gmodel = GaussianNB().fit(xtrain, ytrain)\n",
    "Mmodel = MultinomialNB().fit(xtrain, ytrain)\n",
    "Bmodel = BernoulliNB().fit(xtrain, ytrain)"
   ]
  },
  {
   "cell_type": "code",
   "execution_count": 38,
   "metadata": {},
   "outputs": [],
   "source": [
    "'''Getting the predictions using the three models'''\n",
    "Gypred = Gmodel.predict(xtest)\n",
    "Mypred = Mmodel.predict(xtest)\n",
    "Bypred = Bmodel.predict(xtest)"
   ]
  },
  {
   "cell_type": "code",
   "execution_count": 41,
   "metadata": {},
   "outputs": [
    {
     "name": "stdout",
     "output_type": "stream",
     "text": [
      "accuracy for different tests are: Gaussian: 0.9333333333333333, Multinominal: 0.9666666666666667, Bernoulli: 0.3\n"
     ]
    }
   ],
   "source": [
    "'''Checking accuracy scores of the three models'''\n",
    "Gacc = accuracy_score(ytest,Gypred)\n",
    "Macc = accuracy_score(ytest,Mypred)\n",
    "Bacc = accuracy_score(ytest,Bypred)\n",
    "\n",
    "print('accuracy for different tests are: Gaussian: {}, Multinominal: {}, Bernoulli: {}'.format(Gacc, Macc, Bacc))"
   ]
  },
  {
   "cell_type": "code",
   "execution_count": null,
   "metadata": {},
   "outputs": [],
   "source": [
    "'''We have performed the Naive - Bayes Modelling and come to conclusion.\n",
    "Comparing the above accuracy scores, we see that Gaussian and Multinominal tests give better model than Bernoulli.'''"
   ]
  }
 ],
 "metadata": {
  "kernelspec": {
   "display_name": "Python 3",
   "language": "python",
   "name": "python3"
  },
  "language_info": {
   "codemirror_mode": {
    "name": "ipython",
    "version": 3
   },
   "file_extension": ".py",
   "mimetype": "text/x-python",
   "name": "python",
   "nbconvert_exporter": "python",
   "pygments_lexer": "ipython3",
   "version": "3.8.3"
  }
 },
 "nbformat": 4,
 "nbformat_minor": 4
}
