{
 "cells": [
  {
   "cell_type": "code",
   "execution_count": 20,
   "metadata": {},
   "outputs": [],
   "source": [
    "'''importing libraries'''\n",
    "import pandas as pd\n",
    "from sklearn.metrics import accuracy_score, recall_score, precision_score, classification_report, confusion_matrix\n",
    "from sklearn.tree import DecisionTreeClassifier\n",
    "from sklearn.model_selection import train_test_split\n",
    "from sklearn.datasets import load_iris\n",
    "from sklearn import tree"
   ]
  },
  {
   "cell_type": "code",
   "execution_count": 21,
   "metadata": {},
   "outputs": [],
   "source": [
    "'''loading iris data base'''\n",
    "iris = load_iris()"
   ]
  },
  {
   "cell_type": "code",
   "execution_count": 22,
   "metadata": {},
   "outputs": [],
   "source": [
    "'''forming features and target'''\n",
    "x = iris.data\n",
    "y = iris.target"
   ]
  },
  {
   "cell_type": "code",
   "execution_count": 23,
   "metadata": {},
   "outputs": [],
   "source": [
    "'''forming train test data'''\n",
    "xtrain, xtest, ytrain, ytest = train_test_split(x, y, test_size=0.2)"
   ]
  },
  {
   "cell_type": "code",
   "execution_count": 24,
   "metadata": {},
   "outputs": [],
   "source": [
    "'''forming model'''\n",
    "model = DecisionTreeClassifier().fit(xtrain, ytrain)"
   ]
  },
  {
   "cell_type": "code",
   "execution_count": 25,
   "metadata": {},
   "outputs": [],
   "source": [
    "'''finding prediction values for test inputs'''\n",
    "ypred = model.predict(xtest)"
   ]
  },
  {
   "cell_type": "code",
   "execution_count": 26,
   "metadata": {},
   "outputs": [
    {
     "name": "stdout",
     "output_type": "stream",
     "text": [
      "Accuracy is 0.9666666666666667, Precision is 0.9714285714285714, Recall is 0.9666666666666667\n"
     ]
    }
   ],
   "source": [
    "'''validating the model'''\n",
    "a = accuracy_score(ytest,ypred)\n",
    "p = precision_score(ytest,ypred, average='weighted')\n",
    "r = recall_score(ytest,ypred, average='weighted')\n",
    "print('Accuracy is {}, Precision is {}, Recall is {}'.format(a, p, r))"
   ]
  },
  {
   "cell_type": "code",
   "execution_count": 27,
   "metadata": {},
   "outputs": [
    {
     "data": {
      "text/plain": [
       "array([[14,  0,  0],\n",
       "       [ 0,  6,  0],\n",
       "       [ 0,  1,  9]], dtype=int64)"
      ]
     },
     "execution_count": 27,
     "metadata": {},
     "output_type": "execute_result"
    }
   ],
   "source": [
    "'''checking confusion matrix'''\n",
    "confusion_matrix(ytest, ypred)"
   ]
  },
  {
   "cell_type": "code",
   "execution_count": 28,
   "metadata": {},
   "outputs": [
    {
     "data": {
      "text/plain": [
       "[Text(167.4, 195.696, 'X[3] <= 0.8\\ngini = 0.664\\nsamples = 120\\nvalue = [36, 44, 40]'),\n",
       " Text(141.64615384615385, 152.208, 'gini = 0.0\\nsamples = 36\\nvalue = [36, 0, 0]'),\n",
       " Text(193.15384615384616, 152.208, 'X[3] <= 1.75\\ngini = 0.499\\nsamples = 84\\nvalue = [0, 44, 40]'),\n",
       " Text(103.01538461538462, 108.72, 'X[2] <= 4.95\\ngini = 0.156\\nsamples = 47\\nvalue = [0, 43, 4]'),\n",
       " Text(51.50769230769231, 65.232, 'X[3] <= 1.65\\ngini = 0.046\\nsamples = 42\\nvalue = [0, 41, 1]'),\n",
       " Text(25.753846153846155, 21.744, 'gini = 0.0\\nsamples = 41\\nvalue = [0, 41, 0]'),\n",
       " Text(77.26153846153846, 21.744, 'gini = 0.0\\nsamples = 1\\nvalue = [0, 0, 1]'),\n",
       " Text(154.52307692307693, 65.232, 'X[3] <= 1.55\\ngini = 0.48\\nsamples = 5\\nvalue = [0, 2, 3]'),\n",
       " Text(128.76923076923077, 21.744, 'gini = 0.0\\nsamples = 3\\nvalue = [0, 0, 3]'),\n",
       " Text(180.27692307692308, 21.744, 'gini = 0.0\\nsamples = 2\\nvalue = [0, 2, 0]'),\n",
       " Text(283.2923076923077, 108.72, 'X[2] <= 4.85\\ngini = 0.053\\nsamples = 37\\nvalue = [0, 1, 36]'),\n",
       " Text(257.53846153846155, 65.232, 'X[0] <= 5.95\\ngini = 0.444\\nsamples = 3\\nvalue = [0, 1, 2]'),\n",
       " Text(231.7846153846154, 21.744, 'gini = 0.0\\nsamples = 1\\nvalue = [0, 1, 0]'),\n",
       " Text(283.2923076923077, 21.744, 'gini = 0.0\\nsamples = 2\\nvalue = [0, 0, 2]'),\n",
       " Text(309.04615384615386, 65.232, 'gini = 0.0\\nsamples = 34\\nvalue = [0, 0, 34]')]"
      ]
     },
     "execution_count": 28,
     "metadata": {},
     "output_type": "execute_result"
    },
    {
     "data": {
      "image/png": "[encoded data removed]",
      "text/plain": [
       "<Figure size 432x288 with 1 Axes>"
      ]
     },
     "metadata": {
      "needs_background": "light"
     },
     "output_type": "display_data"
    }
   ],
   "source": [
    "'''plotting the decision tree'''\n",
    "tree.plot_tree(model)"
   ]
  }
 ],
 "metadata": {
  "kernelspec": {
   "display_name": "Python 3",
   "language": "python",
   "name": "python3"
  },
  "language_info": {
   "codemirror_mode": {
    "name": "ipython",
    "version": 3
   },
   "file_extension": ".py",
   "mimetype": "text/x-python",
   "name": "python",
   "nbconvert_exporter": "python",
   "pygments_lexer": "ipython3",
   "version": "3.8.3"
  }
 },
 "nbformat": 4,
 "nbformat_minor": 4
}
