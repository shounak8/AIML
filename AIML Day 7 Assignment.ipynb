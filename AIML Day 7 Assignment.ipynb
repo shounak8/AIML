{
 "cells": [
  {
   "cell_type": "markdown",
   "metadata": {},
   "source": [
    "# Question 1:\n",
    "Write a program to copy the contents of one file to another using a for loop. (Don’t use built-in copy\n",
    "function)"
   ]
  },
  {
   "cell_type": "code",
   "execution_count": 11,
   "metadata": {},
   "outputs": [
    {
     "data": {
      "text/plain": [
       "'C:\\\\Users\\\\shoun\\\\AIML'"
      ]
     },
     "execution_count": 11,
     "metadata": {},
     "output_type": "execute_result"
    }
   ],
   "source": [
    "import os\n",
    "os.getcwd()"
   ]
  },
  {
   "cell_type": "code",
   "execution_count": 13,
   "metadata": {},
   "outputs": [],
   "source": [
    "#'''Writing first file'''\n",
    "\n",
    "a = open('Test1.txt','w')\n",
    "a.write('Today is 10th September. \\n Today is took leave from work. \\n Reason was I am not feeling well.')\n",
    "a.close()"
   ]
  },
  {
   "cell_type": "code",
   "execution_count": 37,
   "metadata": {},
   "outputs": [],
   "source": [
    "#'''Copying contents of first file to another using for loop'''\n",
    "\n",
    "a = open('Test1.txt','r')\n",
    "b = list(a.readlines())\n",
    "a1 = open('CopyFile.txt','w')\n",
    "for i in b:\n",
    "    a1.write(i)\n",
    "a.close()\n",
    "a1.close()"
   ]
  },
  {
   "cell_type": "code",
   "execution_count": 39,
   "metadata": {},
   "outputs": [
    {
     "name": "stdout",
     "output_type": "stream",
     "text": [
      "Today is 10th September. \n",
      " Today is took leave from work. \n",
      " Reason was I am not feeling well.\n",
      "\n",
      "\n",
      "Today is 10th September. \n",
      " Today is took leave from work. \n",
      " Reason was I am not feeling well.\n"
     ]
    }
   ],
   "source": [
    "#'''Checking if the content is copied or not'''\n",
    "\n",
    "a = open('Test1.txt','r')\n",
    "a1 = open('CopyFile.txt','r')\n",
    "print(a.read())\n",
    "print('\\n') #'''space to demarcate the content of the two files'''\n",
    "print(a1.read())"
   ]
  },
  {
   "cell_type": "markdown",
   "metadata": {},
   "source": [
    "# Question 2:\n",
    "Write a Python program to find maximum and minimum values in the dictionary. Do not use built-in min\n",
    "and max functions."
   ]
  },
  {
   "cell_type": "code",
   "execution_count": 41,
   "metadata": {},
   "outputs": [
    {
     "name": "stdout",
     "output_type": "stream",
     "text": [
      "Minimum Value is  2  & Maximum value is  55\n"
     ]
    }
   ],
   "source": [
    "A = {1:2, 2:6, 4:15, 7:55}  #'''forming a dictionary'''\n",
    "B = list(A.values()) #'''forming list of values'''\n",
    "B.sort()   #'''Sorting the list'''\n",
    "Min = B[0]  #'''using indexing to determine Maximum and Minimum values'''\n",
    "Max = B[-1]\n",
    "\n",
    "print('Minimum Value is ',Min,' & Maximum value is ',Max)"
   ]
  }
 ],
 "metadata": {
  "kernelspec": {
   "display_name": "Python 3",
   "language": "python",
   "name": "python3"
  },
  "language_info": {
   "codemirror_mode": {
    "name": "ipython",
    "version": 3
   },
   "file_extension": ".py",
   "mimetype": "text/x-python",
   "name": "python",
   "nbconvert_exporter": "python",
   "pygments_lexer": "ipython3",
   "version": "3.8.3"
  }
 },
 "nbformat": 4,
 "nbformat_minor": 4
}
