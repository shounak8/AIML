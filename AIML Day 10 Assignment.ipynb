{
 "cells": [
  {
   "cell_type": "markdown",
   "metadata": {},
   "source": [
    "# Question 1:\n",
    "Create an element-wise comparison (greater, greater_equal, less and less_equal) of two given arrays"
   ]
  },
  {
   "cell_type": "code",
   "execution_count": 42,
   "metadata": {},
   "outputs": [],
   "source": [
    "import numpy as n"
   ]
  },
  {
   "cell_type": "code",
   "execution_count": 57,
   "metadata": {},
   "outputs": [
    {
     "name": "stdout",
     "output_type": "stream",
     "text": [
      "First array is \n",
      " [[1 2 3]\n",
      " [4 5 6]\n",
      " [7 8 9]] \n",
      " And second array is \n",
      " [[4 2 3]\n",
      " [1 4 8]\n",
      " [5 9 7]]\n",
      "\n",
      " Case 1: Greater than example \n",
      "\n",
      "[[False False False]\n",
      " [ True  True False]\n",
      " [ True False  True]]\n",
      "\n",
      " Case 1: Greater than or Equal to example \n",
      "\n",
      "[[False  True  True]\n",
      " [ True  True False]\n",
      " [ True False  True]]\n",
      "\n",
      " Case 1: Lesser than example \n",
      "\n",
      "[[ True False False]\n",
      " [False False  True]\n",
      " [False  True False]]\n",
      "\n",
      " Case 1: Lesser than or Equal to example \n",
      "\n",
      "[[ True  True  True]\n",
      " [False False  True]\n",
      " [False  True False]]\n"
     ]
    }
   ],
   "source": [
    "a1 = n.array([[1,2,3],[4,5,6],[7,8,9]])\n",
    "a2 = n.array([[4,2,3],[1,4,8],[5,9,7]])\n",
    "print('First array is \\n',a1,'\\n And second array is \\n',a2)\n",
    "print('\\n Case 1: Greater than example \\n')\n",
    "print(n.greater(a1 , a2))\n",
    "print('\\n Case 1: Greater than or Equal to example \\n')\n",
    "print(n.greater_equal(a1 , a2))\n",
    "print('\\n Case 1: Lesser than example \\n')\n",
    "print(n.less(a1 , a2))\n",
    "print('\\n Case 1: Lesser than or Equal to example \\n')\n",
    "print(n.less_equal(a1 , a2))"
   ]
  },
  {
   "cell_type": "code",
   "execution_count": 54,
   "metadata": {},
   "outputs": [
    {
     "data": {
      "text/plain": [
       "array([[1, 2, 3],\n",
       "       [4, 5, 6],\n",
       "       [7, 8, 9]])"
      ]
     },
     "execution_count": 54,
     "metadata": {},
     "output_type": "execute_result"
    }
   ],
   "source": [
    "a1"
   ]
  },
  {
   "cell_type": "markdown",
   "metadata": {},
   "source": [
    "# Question 2:\n",
    "Write a NumPy program to create an array of 10 zeros,10 ones, 10 fives"
   ]
  },
  {
   "cell_type": "markdown",
   "metadata": {},
   "source": [
    "#### Method 1"
   ]
  },
  {
   "cell_type": "code",
   "execution_count": 87,
   "metadata": {},
   "outputs": [
    {
     "data": {
      "text/plain": [
       "array([[0, 1, 5],\n",
       "       [0, 1, 5],\n",
       "       [0, 1, 5],\n",
       "       [0, 1, 5],\n",
       "       [0, 1, 5],\n",
       "       [0, 1, 5],\n",
       "       [0, 1, 5],\n",
       "       [0, 1, 5],\n",
       "       [0, 1, 5],\n",
       "       [0, 1, 5]])"
      ]
     },
     "execution_count": 87,
     "metadata": {},
     "output_type": "execute_result"
    }
   ],
   "source": [
    "a2 = n.full((10,3),5)\n",
    "b2 = n.zeros((10,1))\n",
    "c2 = n.ones((10,1))\n",
    "a2[:,0] = b2[:,0]\n",
    "#print(a2)\n",
    "a2[:,1] = c2[:,0]\n",
    "a2"
   ]
  },
  {
   "cell_type": "markdown",
   "metadata": {},
   "source": [
    "#### Method 2"
   ]
  },
  {
   "cell_type": "code",
   "execution_count": 92,
   "metadata": {},
   "outputs": [
    {
     "data": {
      "text/plain": [
       "array([[0, 0, 0, 0, 0, 0, 0, 0, 0, 0],\n",
       "       [1, 1, 1, 1, 1, 1, 1, 1, 1, 1],\n",
       "       [5, 5, 5, 5, 5, 5, 5, 5, 5, 5]])"
      ]
     },
     "execution_count": 92,
     "metadata": {},
     "output_type": "execute_result"
    }
   ],
   "source": [
    "a3 = n.full((3,10),5)\n",
    "b3 = n.zeros((1,10))\n",
    "c3 = n.ones((1,10))\n",
    "a3[1,:] = c3[0,:]\n",
    "a3[0,:] = b3[0,:]\n",
    "a3"
   ]
  },
  {
   "cell_type": "markdown",
   "metadata": {},
   "source": [
    "#### Method 3"
   ]
  },
  {
   "cell_type": "code",
   "execution_count": 116,
   "metadata": {},
   "outputs": [
    {
     "data": {
      "text/plain": [
       "array([[0., 0., 0., 0., 0., 0., 0., 0., 0., 0.],\n",
       "       [1., 1., 1., 1., 1., 1., 1., 1., 1., 1.],\n",
       "       [5., 5., 5., 5., 5., 5., 5., 5., 5., 5.]])"
      ]
     },
     "execution_count": 116,
     "metadata": {},
     "output_type": "execute_result"
    }
   ],
   "source": [
    "a4 = n.zeros((3,10))\n",
    "#b4 = n.array(([0,1,5]))\n",
    "c4 = n.array(([0],[1],[5]))\n",
    "d4 = a4 + c4\n",
    "d4"
   ]
  },
  {
   "cell_type": "markdown",
   "metadata": {},
   "source": [
    "# Question 3:\n",
    "Write a NumPy program to compute sum of all elements, sum of each column and sum of each row of a\n",
    "given array"
   ]
  },
  {
   "cell_type": "code",
   "execution_count": 124,
   "metadata": {},
   "outputs": [
    {
     "name": "stdout",
     "output_type": "stream",
     "text": [
      " Sum of all elements on array is  60 \n",
      " Sum of all columns of Array is  [6 6 6 6 6 6 6 6 6 6] \n",
      " Sum of all Rows of Array is  [ 0 10 50]\n"
     ]
    }
   ],
   "source": [
    "a3 #taking a3 from above\n",
    "i = n.sum(a3)\n",
    "j = n.sum(a3,axis = 0)\n",
    "k = n.sum(a3,axis = 1)\n",
    "print(' Sum of all elements on array is ',i ,'\\n Sum of all columns of Array is ', j,'\\n Sum of all Rows of Array is ', k, end = '\\n')"
   ]
  },
  {
   "cell_type": "markdown",
   "metadata": {},
   "source": [
    "# Question 4:\n",
    "Write a NumPy program to add, subtract, multiply, divide arguments element-wise."
   ]
  },
  {
   "cell_type": "code",
   "execution_count": 139,
   "metadata": {},
   "outputs": [
    {
     "name": "stdout",
     "output_type": "stream",
     "text": [
      "Array 1 is \n",
      " [[2 2 2]\n",
      " [2 2 2]\n",
      " [2 2 2]] \n",
      "Array 2 is \n",
      " [[4 4 4]\n",
      " [4 4 4]\n",
      " [4 4 4]]\n",
      " Addition of the two arrays is \n",
      " [[6 6 6]\n",
      " [6 6 6]\n",
      " [6 6 6]] \n",
      " Subtraction of the two arrays is  \n",
      " [[2 2 2]\n",
      " [2 2 2]\n",
      " [2 2 2]] \n",
      " Multiplication of the two arrays is  \n",
      " [[8 8 8]\n",
      " [8 8 8]\n",
      " [8 8 8]] \n",
      " Division of the two arrays is \n",
      " [[2. 2. 2.]\n",
      " [2. 2. 2.]\n",
      " [2. 2. 2.]]\n"
     ]
    }
   ],
   "source": [
    "x4 = n.full((3,3),2)\n",
    "y4 = n.full((3,3),4)\n",
    "\n",
    "add = n.add(x4,y4)\n",
    "subt = n.subtract(y4,x4)\n",
    "multiply = n.multiply(x4,y4)\n",
    "divide = n.divide(y4,x4)\n",
    "print('Array 1 is \\n',x4,'\\nArray 2 is \\n',y4)\n",
    "print(' Addition of the two arrays is \\n',add,'\\n Subtraction of the two arrays is  \\n', subt,'\\n Multiplication of the two arrays is  \\n', multiply,'\\n Division of the two arrays is \\n', divide)"
   ]
  },
  {
   "cell_type": "markdown",
   "metadata": {},
   "source": [
    "# Question 5:\n",
    "Write a NumPy program to compute the trigonometric sine, cosine and tangent array of angles given in\n",
    "degree."
   ]
  },
  {
   "cell_type": "code",
   "execution_count": 140,
   "metadata": {},
   "outputs": [],
   "source": [
    "import math\n",
    "import scipy"
   ]
  },
  {
   "cell_type": "code",
   "execution_count": 162,
   "metadata": {},
   "outputs": [
    {
     "name": "stdout",
     "output_type": "stream",
     "text": [
      "For given Array: \n",
      " [ 0 30 45 60 90] \n",
      " Result of applying Sine function to a5 is \n",
      " [0.         0.5        0.70710678 0.8660254  1.        ] \n",
      " Result of applying Cosine function to a5 is \n",
      " [1.00000000e+00 8.66025404e-01 7.07106781e-01 5.00000000e-01\n",
      " 6.12323400e-17] \n",
      " Result of applying Tangent function to a5 is \n",
      " [0.00000000e+00 5.77350269e-01 1.00000000e+00 1.73205081e+00\n",
      " 1.63312394e+16]\n"
     ]
    }
   ],
   "source": [
    "a5 = n.array((0, 30, 45, 60, 90))      #array in degrees    \n",
    "sine = numpy.sin(n.radians(a5))\n",
    "cosine = numpy.cos(n.radians(a5))\n",
    "tan = numpy.tan(n.radians(a5))\n",
    "\n",
    "print('For given Array: \\n', a5, '\\n Result of applying Sine function to a5 is \\n',sine,'\\n Result of applying Cosine function to a5 is \\n',cosine,'\\n Result of applying Tangent function to a5 is \\n',tan)"
   ]
  },
  {
   "cell_type": "markdown",
   "metadata": {},
   "source": [
    "# Question 6:\n",
    "Write a Pandas program to create and display a DataFrame from a specified dictionary data which has the\n",
    "index labels"
   ]
  },
  {
   "cell_type": "code",
   "execution_count": 12,
   "metadata": {},
   "outputs": [],
   "source": [
    "import pandas as pd\n",
    "a = {'Name':['Sharvari','Shounak','Atharva','Sanjay','Chintu','Pintu'],'Gender':['F','M','M','M','F','F'],'Education':[17,18,15,19,8,10],'Score':[99,87,98,91,121,113]}\n",
    "b = ['R1','R2','R3','R4','R5','R6']"
   ]
  },
  {
   "cell_type": "code",
   "execution_count": 13,
   "metadata": {},
   "outputs": [
    {
     "data": {
      "text/html": [
       "<div>\n",
       "<style scoped>\n",
       "    .dataframe tbody tr th:only-of-type {\n",
       "        vertical-align: middle;\n",
       "    }\n",
       "\n",
       "    .dataframe tbody tr th {\n",
       "        vertical-align: top;\n",
       "    }\n",
       "\n",
       "    .dataframe thead th {\n",
       "        text-align: right;\n",
       "    }\n",
       "</style>\n",
       "<table border=\"1\" class=\"dataframe\">\n",
       "  <thead>\n",
       "    <tr style=\"text-align: right;\">\n",
       "      <th></th>\n",
       "      <th>Name</th>\n",
       "      <th>Gender</th>\n",
       "      <th>Education</th>\n",
       "      <th>Score</th>\n",
       "    </tr>\n",
       "  </thead>\n",
       "  <tbody>\n",
       "    <tr>\n",
       "      <th>R1</th>\n",
       "      <td>Sharvari</td>\n",
       "      <td>F</td>\n",
       "      <td>17</td>\n",
       "      <td>99</td>\n",
       "    </tr>\n",
       "    <tr>\n",
       "      <th>R2</th>\n",
       "      <td>Shounak</td>\n",
       "      <td>M</td>\n",
       "      <td>18</td>\n",
       "      <td>87</td>\n",
       "    </tr>\n",
       "    <tr>\n",
       "      <th>R3</th>\n",
       "      <td>Atharva</td>\n",
       "      <td>M</td>\n",
       "      <td>15</td>\n",
       "      <td>98</td>\n",
       "    </tr>\n",
       "    <tr>\n",
       "      <th>R4</th>\n",
       "      <td>Sanjay</td>\n",
       "      <td>M</td>\n",
       "      <td>19</td>\n",
       "      <td>91</td>\n",
       "    </tr>\n",
       "    <tr>\n",
       "      <th>R5</th>\n",
       "      <td>Chintu</td>\n",
       "      <td>F</td>\n",
       "      <td>8</td>\n",
       "      <td>121</td>\n",
       "    </tr>\n",
       "    <tr>\n",
       "      <th>R6</th>\n",
       "      <td>Pintu</td>\n",
       "      <td>F</td>\n",
       "      <td>10</td>\n",
       "      <td>113</td>\n",
       "    </tr>\n",
       "  </tbody>\n",
       "</table>\n",
       "</div>"
      ],
      "text/plain": [
       "        Name Gender  Education  Score\n",
       "R1  Sharvari      F         17     99\n",
       "R2   Shounak      M         18     87\n",
       "R3   Atharva      M         15     98\n",
       "R4    Sanjay      M         19     91\n",
       "R5    Chintu      F          8    121\n",
       "R6     Pintu      F         10    113"
      ]
     },
     "execution_count": 13,
     "metadata": {},
     "output_type": "execute_result"
    }
   ],
   "source": [
    "d = pd.DataFrame(a,b)\n",
    "d"
   ]
  },
  {
   "cell_type": "markdown",
   "metadata": {},
   "source": [
    "# Question 7:\n",
    "Write a Pandas program to select the 'name' and 'score' columns from the following DataFrame."
   ]
  },
  {
   "cell_type": "code",
   "execution_count": 21,
   "metadata": {},
   "outputs": [
    {
     "name": "stdout",
     "output_type": "stream",
     "text": [
      "        Name  Score\n",
      "R1  Sharvari     99\n",
      "R2   Shounak     87\n",
      "R3   Atharva     98\n",
      "R4    Sanjay     91\n",
      "R5    Chintu    121\n",
      "R6     Pintu    113\n"
     ]
    }
   ],
   "source": [
    "a = {'Name':['Sharvari','Shounak','Atharva','Sanjay','Chintu','Pintu'],'Gender':['F','M','M','M','F','F'],'Education':[17,18,15,19,8,10],'Score':[99,87,98,91,121,113]}\n",
    "b = ['R1','R2','R3','R4','R5','R6']\n",
    "d = pd.DataFrame(a,b)\n",
    "print(d[['Name','Score']])"
   ]
  },
  {
   "cell_type": "markdown",
   "metadata": {},
   "source": [
    "# Question 8:\n",
    "Write a Pandas program to join the two given dataframes along rows and assign all data."
   ]
  },
  {
   "cell_type": "code",
   "execution_count": 109,
   "metadata": {},
   "outputs": [],
   "source": [
    "x = {'Name':['Sharvari','Shounak','Atharva','Sanjay','Chintu','Pintu'],'City':['Pune','Pune','New York','Dublin','Kolhapur','Dukkarwadi'],'DIstance Travelled':[717,180,1555,9819,888,170]}\n",
    "y = {'Name':['Tom','Chuck','Rock'],'City':['Florida','Jupiter','Mars'],'DIstance Travelled':[1223,3456,876]}\n",
    "d1 = pd.DataFrame(y)\n",
    "d2 = pd.DataFrame(x)"
   ]
  },
  {
   "cell_type": "code",
   "execution_count": 110,
   "metadata": {},
   "outputs": [],
   "source": [
    "d1.to_csv('File_2.csv')   #Forming file 1 & 2\n",
    "d2.to_csv('File_3.csv')"
   ]
  },
  {
   "cell_type": "code",
   "execution_count": 111,
   "metadata": {},
   "outputs": [],
   "source": [
    "#Reading both the files\n",
    "\n",
    "import os\n",
    "os.chdir(r'C:\\Users\\shoun\\Coding\\AIML')\n",
    "x = pd.read_csv('File_3.csv')\n",
    "y = pd.read_csv('File_2.csv')\n"
   ]
  },
  {
   "cell_type": "code",
   "execution_count": 120,
   "metadata": {},
   "outputs": [
    {
     "data": {
      "text/html": [
       "<div>\n",
       "<style scoped>\n",
       "    .dataframe tbody tr th:only-of-type {\n",
       "        vertical-align: middle;\n",
       "    }\n",
       "\n",
       "    .dataframe tbody tr th {\n",
       "        vertical-align: top;\n",
       "    }\n",
       "\n",
       "    .dataframe thead th {\n",
       "        text-align: right;\n",
       "    }\n",
       "</style>\n",
       "<table border=\"1\" class=\"dataframe\">\n",
       "  <thead>\n",
       "    <tr style=\"text-align: right;\">\n",
       "      <th></th>\n",
       "      <th>Unnamed: 0</th>\n",
       "      <th>Name</th>\n",
       "      <th>City</th>\n",
       "      <th>DIstance Travelled</th>\n",
       "    </tr>\n",
       "  </thead>\n",
       "  <tbody>\n",
       "    <tr>\n",
       "      <th>0</th>\n",
       "      <td>0</td>\n",
       "      <td>Sharvari</td>\n",
       "      <td>Pune</td>\n",
       "      <td>717</td>\n",
       "    </tr>\n",
       "    <tr>\n",
       "      <th>1</th>\n",
       "      <td>1</td>\n",
       "      <td>Shounak</td>\n",
       "      <td>Pune</td>\n",
       "      <td>180</td>\n",
       "    </tr>\n",
       "    <tr>\n",
       "      <th>2</th>\n",
       "      <td>2</td>\n",
       "      <td>Atharva</td>\n",
       "      <td>New York</td>\n",
       "      <td>1555</td>\n",
       "    </tr>\n",
       "    <tr>\n",
       "      <th>3</th>\n",
       "      <td>3</td>\n",
       "      <td>Sanjay</td>\n",
       "      <td>Dublin</td>\n",
       "      <td>9819</td>\n",
       "    </tr>\n",
       "    <tr>\n",
       "      <th>4</th>\n",
       "      <td>4</td>\n",
       "      <td>Chintu</td>\n",
       "      <td>Kolhapur</td>\n",
       "      <td>888</td>\n",
       "    </tr>\n",
       "    <tr>\n",
       "      <th>5</th>\n",
       "      <td>5</td>\n",
       "      <td>Pintu</td>\n",
       "      <td>Dukkarwadi</td>\n",
       "      <td>170</td>\n",
       "    </tr>\n",
       "    <tr>\n",
       "      <th>0</th>\n",
       "      <td>0</td>\n",
       "      <td>Tom</td>\n",
       "      <td>Florida</td>\n",
       "      <td>1223</td>\n",
       "    </tr>\n",
       "    <tr>\n",
       "      <th>1</th>\n",
       "      <td>1</td>\n",
       "      <td>Chuck</td>\n",
       "      <td>Jupiter</td>\n",
       "      <td>3456</td>\n",
       "    </tr>\n",
       "    <tr>\n",
       "      <th>2</th>\n",
       "      <td>2</td>\n",
       "      <td>Rock</td>\n",
       "      <td>Mars</td>\n",
       "      <td>876</td>\n",
       "    </tr>\n",
       "  </tbody>\n",
       "</table>\n",
       "</div>"
      ],
      "text/plain": [
       "   Unnamed: 0      Name        City  DIstance Travelled\n",
       "0           0  Sharvari        Pune                 717\n",
       "1           1   Shounak        Pune                 180\n",
       "2           2   Atharva    New York                1555\n",
       "3           3    Sanjay      Dublin                9819\n",
       "4           4    Chintu    Kolhapur                 888\n",
       "5           5     Pintu  Dukkarwadi                 170\n",
       "0           0       Tom     Florida                1223\n",
       "1           1     Chuck     Jupiter                3456\n",
       "2           2      Rock        Mars                 876"
      ]
     },
     "execution_count": 120,
     "metadata": {},
     "output_type": "execute_result"
    }
   ],
   "source": [
    "#Joining the 2 data frame files using append\n",
    "x.append(y)"
   ]
  },
  {
   "cell_type": "code",
   "execution_count": 119,
   "metadata": {},
   "outputs": [
    {
     "data": {
      "text/html": [
       "<div>\n",
       "<style scoped>\n",
       "    .dataframe tbody tr th:only-of-type {\n",
       "        vertical-align: middle;\n",
       "    }\n",
       "\n",
       "    .dataframe tbody tr th {\n",
       "        vertical-align: top;\n",
       "    }\n",
       "\n",
       "    .dataframe thead th {\n",
       "        text-align: right;\n",
       "    }\n",
       "</style>\n",
       "<table border=\"1\" class=\"dataframe\">\n",
       "  <thead>\n",
       "    <tr style=\"text-align: right;\">\n",
       "      <th></th>\n",
       "      <th>Unnamed: 0</th>\n",
       "      <th>Name</th>\n",
       "      <th>City</th>\n",
       "      <th>DIstance Travelled</th>\n",
       "    </tr>\n",
       "  </thead>\n",
       "  <tbody>\n",
       "    <tr>\n",
       "      <th>0</th>\n",
       "      <td>0</td>\n",
       "      <td>Sharvari</td>\n",
       "      <td>Pune</td>\n",
       "      <td>717</td>\n",
       "    </tr>\n",
       "    <tr>\n",
       "      <th>1</th>\n",
       "      <td>1</td>\n",
       "      <td>Shounak</td>\n",
       "      <td>Pune</td>\n",
       "      <td>180</td>\n",
       "    </tr>\n",
       "    <tr>\n",
       "      <th>2</th>\n",
       "      <td>2</td>\n",
       "      <td>Atharva</td>\n",
       "      <td>New York</td>\n",
       "      <td>1555</td>\n",
       "    </tr>\n",
       "    <tr>\n",
       "      <th>3</th>\n",
       "      <td>3</td>\n",
       "      <td>Sanjay</td>\n",
       "      <td>Dublin</td>\n",
       "      <td>9819</td>\n",
       "    </tr>\n",
       "    <tr>\n",
       "      <th>4</th>\n",
       "      <td>4</td>\n",
       "      <td>Chintu</td>\n",
       "      <td>Kolhapur</td>\n",
       "      <td>888</td>\n",
       "    </tr>\n",
       "    <tr>\n",
       "      <th>5</th>\n",
       "      <td>5</td>\n",
       "      <td>Pintu</td>\n",
       "      <td>Dukkarwadi</td>\n",
       "      <td>170</td>\n",
       "    </tr>\n",
       "    <tr>\n",
       "      <th>0</th>\n",
       "      <td>0</td>\n",
       "      <td>Tom</td>\n",
       "      <td>Florida</td>\n",
       "      <td>1223</td>\n",
       "    </tr>\n",
       "    <tr>\n",
       "      <th>1</th>\n",
       "      <td>1</td>\n",
       "      <td>Chuck</td>\n",
       "      <td>Jupiter</td>\n",
       "      <td>3456</td>\n",
       "    </tr>\n",
       "    <tr>\n",
       "      <th>2</th>\n",
       "      <td>2</td>\n",
       "      <td>Rock</td>\n",
       "      <td>Mars</td>\n",
       "      <td>876</td>\n",
       "    </tr>\n",
       "  </tbody>\n",
       "</table>\n",
       "</div>"
      ],
      "text/plain": [
       "   Unnamed: 0      Name        City  DIstance Travelled\n",
       "0           0  Sharvari        Pune                 717\n",
       "1           1   Shounak        Pune                 180\n",
       "2           2   Atharva    New York                1555\n",
       "3           3    Sanjay      Dublin                9819\n",
       "4           4    Chintu    Kolhapur                 888\n",
       "5           5     Pintu  Dukkarwadi                 170\n",
       "0           0       Tom     Florida                1223\n",
       "1           1     Chuck     Jupiter                3456\n",
       "2           2      Rock        Mars                 876"
      ]
     },
     "execution_count": 119,
     "metadata": {},
     "output_type": "execute_result"
    }
   ],
   "source": [
    "#Joining the 2 data frame files using concat\n",
    "cnct = pd.concat([x,y])\n",
    "cnct"
   ]
  },
  {
   "cell_type": "markdown",
   "metadata": {},
   "source": [
    "# Question 9:\n",
    "Write a Pandas program to detect missing values of a given DataFrame. Display True or False."
   ]
  },
  {
   "cell_type": "code",
   "execution_count": 87,
   "metadata": {},
   "outputs": [],
   "source": [
    "x = {'Name':['Sharvari','Shounak','Atharva','Sanjay'],'Fovourite Movie':['Gladiator','LOTR','Avengers','Payne'],'Fav Sports':['Cricket','Football','Cricket','Tennis']}\n",
    "d3 = pd.DataFrame(x)\n"
   ]
  },
  {
   "cell_type": "code",
   "execution_count": 88,
   "metadata": {},
   "outputs": [],
   "source": [
    "d3.to_csv('File_3')"
   ]
  },
  {
   "cell_type": "code",
   "execution_count": 101,
   "metadata": {},
   "outputs": [
    {
     "name": "stdout",
     "output_type": "stream",
     "text": [
      "Merge dataframe is:\n",
      "  Unnamed: 0_x      Name Gender  Education  Score  Unnamed: 0_y  \\\n",
      "0           R1  Sharvari      F         17     99           0.0   \n",
      "1           R2   Shounak      M         18     87           1.0   \n",
      "2           R3   Atharva      M         15     98           2.0   \n",
      "3           R4    Sanjay      M         19     91           3.0   \n",
      "4           R5    Chintu      F          8    121           NaN   \n",
      "5           R6     Pintu      F         10    113           NaN   \n",
      "\n",
      "  Fovourite Movie Fav Sports  \n",
      "0       Gladiator    Cricket  \n",
      "1            LOTR   Football  \n",
      "2        Avengers    Cricket  \n",
      "3           Payne     Tennis  \n",
      "4             NaN        NaN  \n",
      "5             NaN        NaN  \n",
      "\n",
      " Displaying missing values as True or False\n"
     ]
    },
    {
     "data": {
      "text/html": [
       "<div>\n",
       "<style scoped>\n",
       "    .dataframe tbody tr th:only-of-type {\n",
       "        vertical-align: middle;\n",
       "    }\n",
       "\n",
       "    .dataframe tbody tr th {\n",
       "        vertical-align: top;\n",
       "    }\n",
       "\n",
       "    .dataframe thead th {\n",
       "        text-align: right;\n",
       "    }\n",
       "</style>\n",
       "<table border=\"1\" class=\"dataframe\">\n",
       "  <thead>\n",
       "    <tr style=\"text-align: right;\">\n",
       "      <th></th>\n",
       "      <th>Unnamed: 0_x</th>\n",
       "      <th>Name</th>\n",
       "      <th>Gender</th>\n",
       "      <th>Education</th>\n",
       "      <th>Score</th>\n",
       "      <th>Unnamed: 0_y</th>\n",
       "      <th>Fovourite Movie</th>\n",
       "      <th>Fav Sports</th>\n",
       "    </tr>\n",
       "  </thead>\n",
       "  <tbody>\n",
       "    <tr>\n",
       "      <th>0</th>\n",
       "      <td>False</td>\n",
       "      <td>False</td>\n",
       "      <td>False</td>\n",
       "      <td>False</td>\n",
       "      <td>False</td>\n",
       "      <td>False</td>\n",
       "      <td>False</td>\n",
       "      <td>False</td>\n",
       "    </tr>\n",
       "    <tr>\n",
       "      <th>1</th>\n",
       "      <td>False</td>\n",
       "      <td>False</td>\n",
       "      <td>False</td>\n",
       "      <td>False</td>\n",
       "      <td>False</td>\n",
       "      <td>False</td>\n",
       "      <td>False</td>\n",
       "      <td>False</td>\n",
       "    </tr>\n",
       "    <tr>\n",
       "      <th>2</th>\n",
       "      <td>False</td>\n",
       "      <td>False</td>\n",
       "      <td>False</td>\n",
       "      <td>False</td>\n",
       "      <td>False</td>\n",
       "      <td>False</td>\n",
       "      <td>False</td>\n",
       "      <td>False</td>\n",
       "    </tr>\n",
       "    <tr>\n",
       "      <th>3</th>\n",
       "      <td>False</td>\n",
       "      <td>False</td>\n",
       "      <td>False</td>\n",
       "      <td>False</td>\n",
       "      <td>False</td>\n",
       "      <td>False</td>\n",
       "      <td>False</td>\n",
       "      <td>False</td>\n",
       "    </tr>\n",
       "    <tr>\n",
       "      <th>4</th>\n",
       "      <td>False</td>\n",
       "      <td>False</td>\n",
       "      <td>False</td>\n",
       "      <td>False</td>\n",
       "      <td>False</td>\n",
       "      <td>True</td>\n",
       "      <td>True</td>\n",
       "      <td>True</td>\n",
       "    </tr>\n",
       "    <tr>\n",
       "      <th>5</th>\n",
       "      <td>False</td>\n",
       "      <td>False</td>\n",
       "      <td>False</td>\n",
       "      <td>False</td>\n",
       "      <td>False</td>\n",
       "      <td>True</td>\n",
       "      <td>True</td>\n",
       "      <td>True</td>\n",
       "    </tr>\n",
       "  </tbody>\n",
       "</table>\n",
       "</div>"
      ],
      "text/plain": [
       "   Unnamed: 0_x   Name  Gender  Education  Score  Unnamed: 0_y  \\\n",
       "0         False  False   False      False  False         False   \n",
       "1         False  False   False      False  False         False   \n",
       "2         False  False   False      False  False         False   \n",
       "3         False  False   False      False  False         False   \n",
       "4         False  False   False      False  False          True   \n",
       "5         False  False   False      False  False          True   \n",
       "\n",
       "   Fovourite Movie  Fav Sports  \n",
       "0            False       False  \n",
       "1            False       False  \n",
       "2            False       False  \n",
       "3            False       False  \n",
       "4             True        True  \n",
       "5             True        True  "
      ]
     },
     "execution_count": 101,
     "metadata": {},
     "output_type": "execute_result"
    }
   ],
   "source": [
    "z = pd.read_csv('File_3')\n",
    "g = x.merge(z,on = 'Name',how = 'outer')\n",
    "print('Merge dataframe is:' )\n",
    "print(g)\n",
    "print('\\n Displaying missing values as True or False')\n",
    "g.isna()"
   ]
  },
  {
   "cell_type": "markdown",
   "metadata": {},
   "source": [
    "# Question 10:\n",
    "Write a Pandas program to create and display a one-dimensional array-like object containing an array of\n",
    "data."
   ]
  },
  {
   "cell_type": "code",
   "execution_count": 131,
   "metadata": {},
   "outputs": [
    {
     "data": {
      "text/plain": [
       "0    a\n",
       "1    b\n",
       "2    c\n",
       "3    d\n",
       "4    e\n",
       "5    f\n",
       "6    g\n",
       "7    h\n",
       "8    i\n",
       "9    j\n",
       "dtype: object"
      ]
     },
     "execution_count": 131,
     "metadata": {},
     "output_type": "execute_result"
    }
   ],
   "source": [
    "ab = ('a','b','c','d','e','f','g','h','i','j')\n",
    "a = pd.Series(list(ab), index = range(10))\n",
    "a"
   ]
  }
 ],
 "metadata": {
  "kernelspec": {
   "display_name": "Python 3",
   "language": "python",
   "name": "python3"
  },
  "language_info": {
   "codemirror_mode": {
    "name": "ipython",
    "version": 3
   },
   "file_extension": ".py",
   "mimetype": "text/x-python",
   "name": "python",
   "nbconvert_exporter": "python",
   "pygments_lexer": "ipython3",
   "version": "3.8.3"
  }
 },
 "nbformat": 4,
 "nbformat_minor": 4
}
