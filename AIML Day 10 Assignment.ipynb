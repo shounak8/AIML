{
 "cells": [
  {
   "cell_type": "markdown",
   "metadata": {},
   "source": [
    "# Question 1:\n",
    "Create an element-wise comparison (greater, greater_equal, less and less_equal) of two given arrays"
   ]
  },
  {
   "cell_type": "code",
   "execution_count": 42,
   "metadata": {},
   "outputs": [],
   "source": [
    "import numpy as n"
   ]
  },
  {
   "cell_type": "code",
   "execution_count": 57,
   "metadata": {},
   "outputs": [
    {
     "name": "stdout",
     "output_type": "stream",
     "text": [
      "First array is \n",
      " [[1 2 3]\n",
      " [4 5 6]\n",
      " [7 8 9]] \n",
      " And second array is \n",
      " [[4 2 3]\n",
      " [1 4 8]\n",
      " [5 9 7]]\n",
      "\n",
      " Case 1: Greater than example \n",
      "\n",
      "[[False False False]\n",
      " [ True  True False]\n",
      " [ True False  True]]\n",
      "\n",
      " Case 1: Greater than or Equal to example \n",
      "\n",
      "[[False  True  True]\n",
      " [ True  True False]\n",
      " [ True False  True]]\n",
      "\n",
      " Case 1: Lesser than example \n",
      "\n",
      "[[ True False False]\n",
      " [False False  True]\n",
      " [False  True False]]\n",
      "\n",
      " Case 1: Lesser than or Equal to example \n",
      "\n",
      "[[ True  True  True]\n",
      " [False False  True]\n",
      " [False  True False]]\n"
     ]
    }
   ],
   "source": [
    "a1 = n.array([[1,2,3],[4,5,6],[7,8,9]])\n",
    "a2 = n.array([[4,2,3],[1,4,8],[5,9,7]])\n",
    "print('First array is \\n',a1,'\\n And second array is \\n',a2)\n",
    "print('\\n Case 1: Greater than example \\n')\n",
    "print(n.greater(a1 , a2))\n",
    "print('\\n Case 1: Greater than or Equal to example \\n')\n",
    "print(n.greater_equal(a1 , a2))\n",
    "print('\\n Case 1: Lesser than example \\n')\n",
    "print(n.less(a1 , a2))\n",
    "print('\\n Case 1: Lesser than or Equal to example \\n')\n",
    "print(n.less_equal(a1 , a2))"
   ]
  },
  {
   "cell_type": "code",
   "execution_count": 54,
   "metadata": {},
   "outputs": [
    {
     "data": {
      "text/plain": [
       "array([[1, 2, 3],\n",
       "       [4, 5, 6],\n",
       "       [7, 8, 9]])"
      ]
     },
     "execution_count": 54,
     "metadata": {},
     "output_type": "execute_result"
    }
   ],
   "source": [
    "a1"
   ]
  },
  {
   "cell_type": "markdown",
   "metadata": {},
   "source": [
    "# Question 2:\n",
    "Write a NumPy program to create an array of 10 zeros,10 ones, 10 fives"
   ]
  },
  {
   "cell_type": "markdown",
   "metadata": {},
   "source": [
    "#### Method 1"
   ]
  },
  {
   "cell_type": "code",
   "execution_count": 87,
   "metadata": {},
   "outputs": [
    {
     "data": {
      "text/plain": [
       "array([[0, 1, 5],\n",
       "       [0, 1, 5],\n",
       "       [0, 1, 5],\n",
       "       [0, 1, 5],\n",
       "       [0, 1, 5],\n",
       "       [0, 1, 5],\n",
       "       [0, 1, 5],\n",
       "       [0, 1, 5],\n",
       "       [0, 1, 5],\n",
       "       [0, 1, 5]])"
      ]
     },
     "execution_count": 87,
     "metadata": {},
     "output_type": "execute_result"
    }
   ],
   "source": [
    "a2 = n.full((10,3),5)\n",
    "b2 = n.zeros((10,1))\n",
    "c2 = n.ones((10,1))\n",
    "a2[:,0] = b2[:,0]\n",
    "#print(a2)\n",
    "a2[:,1] = c2[:,0]\n",
    "a2"
   ]
  },
  {
   "cell_type": "markdown",
   "metadata": {},
   "source": [
    "#### Method 2"
   ]
  },
  {
   "cell_type": "code",
   "execution_count": 92,
   "metadata": {},
   "outputs": [
    {
     "data": {
      "text/plain": [
       "array([[0, 0, 0, 0, 0, 0, 0, 0, 0, 0],\n",
       "       [1, 1, 1, 1, 1, 1, 1, 1, 1, 1],\n",
       "       [5, 5, 5, 5, 5, 5, 5, 5, 5, 5]])"
      ]
     },
     "execution_count": 92,
     "metadata": {},
     "output_type": "execute_result"
    }
   ],
   "source": [
    "a3 = n.full((3,10),5)\n",
    "b3 = n.zeros((1,10))\n",
    "c3 = n.ones((1,10))\n",
    "a3[1,:] = c3[0,:]\n",
    "a3[0,:] = b3[0,:]\n",
    "a3"
   ]
  },
  {
   "cell_type": "markdown",
   "metadata": {},
   "source": [
    "#### Method 3"
   ]
  },
  {
   "cell_type": "code",
   "execution_count": 116,
   "metadata": {},
   "outputs": [
    {
     "data": {
      "text/plain": [
       "array([[0., 0., 0., 0., 0., 0., 0., 0., 0., 0.],\n",
       "       [1., 1., 1., 1., 1., 1., 1., 1., 1., 1.],\n",
       "       [5., 5., 5., 5., 5., 5., 5., 5., 5., 5.]])"
      ]
     },
     "execution_count": 116,
     "metadata": {},
     "output_type": "execute_result"
    }
   ],
   "source": [
    "a4 = n.zeros((3,10))\n",
    "#b4 = n.array(([0,1,5]))\n",
    "c4 = n.array(([0],[1],[5]))\n",
    "d4 = a4 + c4\n",
    "d4"
   ]
  },
  {
   "cell_type": "markdown",
   "metadata": {},
   "source": [
    "# Question 3:\n",
    "Write a NumPy program to compute sum of all elements, sum of each column and sum of each row of a\n",
    "given array"
   ]
  },
  {
   "cell_type": "code",
   "execution_count": 124,
   "metadata": {},
   "outputs": [
    {
     "name": "stdout",
     "output_type": "stream",
     "text": [
      " Sum of all elements on array is  60 \n",
      " Sum of all columns of Array is  [6 6 6 6 6 6 6 6 6 6] \n",
      " Sum of all Rows of Array is  [ 0 10 50]\n"
     ]
    }
   ],
   "source": [
    "a3 #taking a3 from above\n",
    "i = n.sum(a3)\n",
    "j = n.sum(a3,axis = 0)\n",
    "k = n.sum(a3,axis = 1)\n",
    "print(' Sum of all elements on array is ',i ,'\\n Sum of all columns of Array is ', j,'\\n Sum of all Rows of Array is ', k, end = '\\n')"
   ]
  },
  {
   "cell_type": "markdown",
   "metadata": {},
   "source": [
    "# Question 4:\n",
    "Write a NumPy program to add, subtract, multiply, divide arguments element-wise."
   ]
  },
  {
   "cell_type": "code",
   "execution_count": 139,
   "metadata": {},
   "outputs": [
    {
     "name": "stdout",
     "output_type": "stream",
     "text": [
      "Array 1 is \n",
      " [[2 2 2]\n",
      " [2 2 2]\n",
      " [2 2 2]] \n",
      "Array 2 is \n",
      " [[4 4 4]\n",
      " [4 4 4]\n",
      " [4 4 4]]\n",
      " Addition of the two arrays is \n",
      " [[6 6 6]\n",
      " [6 6 6]\n",
      " [6 6 6]] \n",
      " Subtraction of the two arrays is  \n",
      " [[2 2 2]\n",
      " [2 2 2]\n",
      " [2 2 2]] \n",
      " Multiplication of the two arrays is  \n",
      " [[8 8 8]\n",
      " [8 8 8]\n",
      " [8 8 8]] \n",
      " Division of the two arrays is \n",
      " [[2. 2. 2.]\n",
      " [2. 2. 2.]\n",
      " [2. 2. 2.]]\n"
     ]
    }
   ],
   "source": [
    "x4 = n.full((3,3),2)\n",
    "y4 = n.full((3,3),4)\n",
    "\n",
    "add = n.add(x4,y4)\n",
    "subt = n.subtract(y4,x4)\n",
    "multiply = n.multiply(x4,y4)\n",
    "divide = n.divide(y4,x4)\n",
    "print('Array 1 is \\n',x4,'\\nArray 2 is \\n',y4)\n",
    "print(' Addition of the two arrays is \\n',add,'\\n Subtraction of the two arrays is  \\n', subt,'\\n Multiplication of the two arrays is  \\n', multiply,'\\n Division of the two arrays is \\n', divide)"
   ]
  },
  {
   "cell_type": "markdown",
   "metadata": {},
   "source": [
    "# Question 5:\n",
    "Write a NumPy program to compute the trigonometric sine, cosine and tangent array of angles given in\n",
    "degree."
   ]
  },
  {
   "cell_type": "code",
   "execution_count": 140,
   "metadata": {},
   "outputs": [],
   "source": [
    "import math\n",
    "import scipy"
   ]
  },
  {
   "cell_type": "code",
   "execution_count": 162,
   "metadata": {},
   "outputs": [
    {
     "name": "stdout",
     "output_type": "stream",
     "text": [
      "For given Array: \n",
      " [ 0 30 45 60 90] \n",
      " Result of applying Sine function to a5 is \n",
      " [0.         0.5        0.70710678 0.8660254  1.        ] \n",
      " Result of applying Cosine function to a5 is \n",
      " [1.00000000e+00 8.66025404e-01 7.07106781e-01 5.00000000e-01\n",
      " 6.12323400e-17] \n",
      " Result of applying Tangent function to a5 is \n",
      " [0.00000000e+00 5.77350269e-01 1.00000000e+00 1.73205081e+00\n",
      " 1.63312394e+16]\n"
     ]
    }
   ],
   "source": [
    "a5 = n.array((0, 30, 45, 60, 90))      #array in degrees    \n",
    "sine = numpy.sin(n.radians(a5))\n",
    "cosine = numpy.cos(n.radians(a5))\n",
    "tan = numpy.tan(n.radians(a5))\n",
    "\n",
    "print('For given Array: \\n', a5, '\\n Result of applying Sine function to a5 is \\n',sine,'\\n Result of applying Cosine function to a5 is \\n',cosine,'\\n Result of applying Tangent function to a5 is \\n',tan)"
   ]
  },
  {
   "cell_type": "markdown",
   "metadata": {},
   "source": [
    "# Pandas is not yet taught or discussed by Arindam sir as on 14 Sept. Only one lecture is competed and numpy & scipy was discussed. Next lecture is scheduled on Tuesday (16 Sept). Since assignment is to be submitted by 14 Sept, Numpy & Scipy Questions are solved and submitting the same."
   ]
  }
 ],
 "metadata": {
  "kernelspec": {
   "display_name": "Python 3",
   "language": "python",
   "name": "python3"
  },
  "language_info": {
   "codemirror_mode": {
    "name": "ipython",
    "version": 3
   },
   "file_extension": ".py",
   "mimetype": "text/x-python",
   "name": "python",
   "nbconvert_exporter": "python",
   "pygments_lexer": "ipython3",
   "version": "3.8.3"
  }
 },
 "nbformat": 4,
 "nbformat_minor": 4
}
